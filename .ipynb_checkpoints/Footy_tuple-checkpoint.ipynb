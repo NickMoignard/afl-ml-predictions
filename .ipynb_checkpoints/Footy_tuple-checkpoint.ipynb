{
 "cells": [
  {
   "cell_type": "code",
   "execution_count": 1,
   "metadata": {},
   "outputs": [],
   "source": [
    "import pandas as pd"
   ]
  },
  {
   "cell_type": "code",
   "execution_count": 2,
   "metadata": {},
   "outputs": [],
   "source": [
    "all_cols_df = pd.read_csv('game_data/game_stats.csv')"
   ]
  },
  {
   "cell_type": "code",
   "execution_count": 3,
   "metadata": {},
   "outputs": [
    {
     "data": {
      "text/html": [
       "<div>\n",
       "<style scoped>\n",
       "    .dataframe tbody tr th:only-of-type {\n",
       "        vertical-align: middle;\n",
       "    }\n",
       "\n",
       "    .dataframe tbody tr th {\n",
       "        vertical-align: top;\n",
       "    }\n",
       "\n",
       "    .dataframe thead th {\n",
       "        text-align: right;\n",
       "    }\n",
       "</style>\n",
       "<table border=\"1\" class=\"dataframe\">\n",
       "  <thead>\n",
       "    <tr style=\"text-align: right;\">\n",
       "      <th></th>\n",
       "      <th>Date</th>\n",
       "      <th>KickOff</th>\n",
       "      <th>HomeTeam</th>\n",
       "      <th>AwayTeam</th>\n",
       "      <th>Venue</th>\n",
       "      <th>HomeScore</th>\n",
       "      <th>AwayScore</th>\n",
       "      <th>PlayOff Game?</th>\n",
       "      <th>HomeGoals</th>\n",
       "      <th>HomeBehinds</th>\n",
       "      <th>AwayGoals</th>\n",
       "      <th>AwayBehinds</th>\n",
       "      <th>Result</th>\n",
       "    </tr>\n",
       "  </thead>\n",
       "  <tbody>\n",
       "    <tr>\n",
       "      <th>0</th>\n",
       "      <td>25-Apr-18</td>\n",
       "      <td>15:20</td>\n",
       "      <td>Collingwood</td>\n",
       "      <td>Essendon</td>\n",
       "      <td>MCG</td>\n",
       "      <td>101</td>\n",
       "      <td>52</td>\n",
       "      <td>NaN</td>\n",
       "      <td>14</td>\n",
       "      <td>17</td>\n",
       "      <td>7</td>\n",
       "      <td>10</td>\n",
       "      <td>1</td>\n",
       "    </tr>\n",
       "    <tr>\n",
       "      <th>1</th>\n",
       "      <td>24-Apr-18</td>\n",
       "      <td>19:25</td>\n",
       "      <td>Melbourne</td>\n",
       "      <td>Richmond</td>\n",
       "      <td>MCG</td>\n",
       "      <td>56</td>\n",
       "      <td>102</td>\n",
       "      <td>NaN</td>\n",
       "      <td>8</td>\n",
       "      <td>8</td>\n",
       "      <td>15</td>\n",
       "      <td>12</td>\n",
       "      <td>-1</td>\n",
       "    </tr>\n",
       "    <tr>\n",
       "      <th>2</th>\n",
       "      <td>22-Apr-18</td>\n",
       "      <td>16:40</td>\n",
       "      <td>Brisbane</td>\n",
       "      <td>Gold Coast</td>\n",
       "      <td>Gabba</td>\n",
       "      <td>71</td>\n",
       "      <td>76</td>\n",
       "      <td>NaN</td>\n",
       "      <td>10</td>\n",
       "      <td>11</td>\n",
       "      <td>11</td>\n",
       "      <td>10</td>\n",
       "      <td>-1</td>\n",
       "    </tr>\n",
       "    <tr>\n",
       "      <th>3</th>\n",
       "      <td>22-Apr-18</td>\n",
       "      <td>15:20</td>\n",
       "      <td>North Melbourne</td>\n",
       "      <td>Hawthorn</td>\n",
       "      <td>Etihad Stadium</td>\n",
       "      <td>98</td>\n",
       "      <td>70</td>\n",
       "      <td>NaN</td>\n",
       "      <td>14</td>\n",
       "      <td>14</td>\n",
       "      <td>11</td>\n",
       "      <td>4</td>\n",
       "      <td>1</td>\n",
       "    </tr>\n",
       "    <tr>\n",
       "      <th>4</th>\n",
       "      <td>21-Apr-18</td>\n",
       "      <td>18:10</td>\n",
       "      <td>Fremantle</td>\n",
       "      <td>Western Bulldogs</td>\n",
       "      <td>Simonds Stadium</td>\n",
       "      <td>108</td>\n",
       "      <td>54</td>\n",
       "      <td>NaN</td>\n",
       "      <td>16</td>\n",
       "      <td>12</td>\n",
       "      <td>8</td>\n",
       "      <td>6</td>\n",
       "      <td>1</td>\n",
       "    </tr>\n",
       "  </tbody>\n",
       "</table>\n",
       "</div>"
      ],
      "text/plain": [
       "        Date KickOff         HomeTeam          AwayTeam            Venue  \\\n",
       "0  25-Apr-18   15:20      Collingwood          Essendon              MCG   \n",
       "1  24-Apr-18   19:25        Melbourne          Richmond              MCG   \n",
       "2  22-Apr-18   16:40         Brisbane        Gold Coast            Gabba   \n",
       "3  22-Apr-18   15:20  North Melbourne          Hawthorn   Etihad Stadium   \n",
       "4  21-Apr-18   18:10        Fremantle  Western Bulldogs  Simonds Stadium   \n",
       "\n",
       "   HomeScore  AwayScore PlayOff Game?  HomeGoals  HomeBehinds  AwayGoals  \\\n",
       "0        101         52           NaN         14           17          7   \n",
       "1         56        102           NaN          8            8         15   \n",
       "2         71         76           NaN         10           11         11   \n",
       "3         98         70           NaN         14           14         11   \n",
       "4        108         54           NaN         16           12          8   \n",
       "\n",
       "   AwayBehinds  Result  \n",
       "0           10       1  \n",
       "1           12      -1  \n",
       "2           10      -1  \n",
       "3            4       1  \n",
       "4            6       1  "
      ]
     },
     "execution_count": 3,
     "metadata": {},
     "output_type": "execute_result"
    }
   ],
   "source": [
    "import numpy as np\n",
    "df = all_cols_df.iloc[:, 0:12]\n",
    "df['Result'] = np.where(df['HomeScore'] > df['AwayScore'], 1, -1)\n",
    "\n",
    "\n",
    "df.head()"
   ]
  },
  {
   "cell_type": "code",
   "execution_count": 4,
   "metadata": {},
   "outputs": [
    {
     "name": "stdout",
     "output_type": "stream",
     "text": [
      "2009-06-19 19:40:00\n"
     ]
    }
   ],
   "source": [
    "import datetime as dt\n",
    "teams = ['Collingwood', 'Essendon', 'Brisbane', 'Gold Coast', 'North Melbourne', 'Hawthorn', 'Fremantle', 'Western Bulldogs', 'Port Adelaide', 'Geelong', 'Carlton', 'West Coast', 'St Kilda', 'GWS Giants', 'Sydney', 'Adelaide', 'Melbourne', 'Richmond']\n",
    "\n",
    "datetimes = []\n",
    "dates, times = df['Date'], df['KickOff']\n",
    "\n",
    "for i in range(len(dates)):\n",
    "    date_str = str(dates[i]) + \" \" + str(times[i]) + \":00\"\n",
    "    date = dt.datetime.strptime(date_str, \"%d-%b-%y %H:%M:%S\")\n",
    "    \n",
    "    datetimes.append(date)\n",
    "\n",
    "print(datetimes[-1])\n",
    "\n",
    "df['Datetime'] = datetimes\n",
    "\n",
    "df = df.iloc[:, range(2,14)]\n",
    "\n",
    "\n",
    "df = df.set_index('Datetime')\n",
    "\n",
    "df_17, df_18, df_16 = df['2017'], df['2018'], df['2016']\n",
    "\n",
    "\n",
    "\n"
   ]
  },
  {
   "cell_type": "code",
   "execution_count": 5,
   "metadata": {},
   "outputs": [
    {
     "data": {
      "text/plain": [
       "45"
      ]
     },
     "execution_count": 5,
     "metadata": {},
     "output_type": "execute_result"
    }
   ],
   "source": [
    "len(df_18['AwayScore'])"
   ]
  },
  {
   "cell_type": "code",
   "execution_count": 6,
   "metadata": {},
   "outputs": [],
   "source": [
    "scores_for, scores_against, num_games = dict(), dict(), dict()\n",
    "\n",
    "for team in teams:\n",
    "    scores_for[team], scores_against = [0,0], [0,0]    \n",
    "    num_games[team] = 0\n",
    "    \n",
    "for team, away_team, home_g, home_b, away_g, away_b in zip(df_17['HomeTeam'], df_17['AwayTeam'], df_17['HomeGoals'], df_17['HomeBehinds'], df_17['AwayGoals'], df_17['AwayBehinds']):\n",
    "    scores[team][0] += home_g + away_g\n",
    "    scores[team][1] += home_b + away_b\n",
    "    num_games[team] += 1\n",
    "    num_games[away_team] += 1\n",
    "    \n",
    "    \n",
    "    "
   ]
  },
  {
   "cell_type": "code",
   "execution_count": 7,
   "metadata": {},
   "outputs": [],
   "source": [
    "\n",
    "\n",
    "team_df = pd.DataFrame()\n",
    "\n",
    "team_df['GamesPlayed'] = pd.Series(num_games)\n",
    "team_df['Scores'] = pd.Series(scores)\n",
    "\n",
    "\n"
   ]
  },
  {
   "cell_type": "code",
   "execution_count": 9,
   "metadata": {},
   "outputs": [
    {
     "data": {
      "text/html": [
       "<div>\n",
       "<style scoped>\n",
       "    .dataframe tbody tr th:only-of-type {\n",
       "        vertical-align: middle;\n",
       "    }\n",
       "\n",
       "    .dataframe tbody tr th {\n",
       "        vertical-align: top;\n",
       "    }\n",
       "\n",
       "    .dataframe thead th {\n",
       "        text-align: right;\n",
       "    }\n",
       "</style>\n",
       "<table border=\"1\" class=\"dataframe\">\n",
       "  <thead>\n",
       "    <tr style=\"text-align: right;\">\n",
       "      <th></th>\n",
       "      <th>GamesPlayed</th>\n",
       "      <th>Scores</th>\n",
       "      <th>Avgs</th>\n",
       "    </tr>\n",
       "  </thead>\n",
       "  <tbody>\n",
       "    <tr>\n",
       "      <th>Adelaide</th>\n",
       "      <td>25</td>\n",
       "      <td>[371, 319]</td>\n",
       "      <td>[14.84, 12.76]</td>\n",
       "    </tr>\n",
       "    <tr>\n",
       "      <th>Brisbane</th>\n",
       "      <td>22</td>\n",
       "      <td>[332, 285]</td>\n",
       "      <td>[15.090909090909092, 12.954545454545455]</td>\n",
       "    </tr>\n",
       "    <tr>\n",
       "      <th>Carlton</th>\n",
       "      <td>22</td>\n",
       "      <td>[273, 207]</td>\n",
       "      <td>[12.409090909090908, 9.409090909090908]</td>\n",
       "    </tr>\n",
       "    <tr>\n",
       "      <th>Collingwood</th>\n",
       "      <td>22</td>\n",
       "      <td>[272, 235]</td>\n",
       "      <td>[12.363636363636363, 10.681818181818182]</td>\n",
       "    </tr>\n",
       "    <tr>\n",
       "      <th>Essendon</th>\n",
       "      <td>23</td>\n",
       "      <td>[308, 282]</td>\n",
       "      <td>[13.391304347826088, 12.26086956521739]</td>\n",
       "    </tr>\n",
       "  </tbody>\n",
       "</table>\n",
       "</div>"
      ],
      "text/plain": [
       "             GamesPlayed      Scores                                      Avgs\n",
       "Adelaide              25  [371, 319]                            [14.84, 12.76]\n",
       "Brisbane              22  [332, 285]  [15.090909090909092, 12.954545454545455]\n",
       "Carlton               22  [273, 207]   [12.409090909090908, 9.409090909090908]\n",
       "Collingwood           22  [272, 235]  [12.363636363636363, 10.681818181818182]\n",
       "Essendon              23  [308, 282]   [13.391304347826088, 12.26086956521739]"
      ]
     },
     "execution_count": 9,
     "metadata": {},
     "output_type": "execute_result"
    }
   ],
   "source": [
    "avgs = dict()\n",
    "for team in teams:\n",
    "    avgs[team] = [0,0]\n",
    "    \n",
    "for team, games, S in zip(team_df.index, team_df['GamesPlayed'], team_df['Scores']) :\n",
    "    avgs[team][0] = S[0]/games\n",
    "    avgs[team][1] = S[1]/games\n",
    "\n",
    "    \n",
    "team_df['Avgs'] = pd.Series(avgs)\n",
    "team_df.head()"
   ]
  },
  {
   "cell_type": "code",
   "execution_count": null,
   "metadata": {},
   "outputs": [],
   "source": [
    "teams_df.index"
   ]
  },
  {
   "cell_type": "code",
   "execution_count": null,
   "metadata": {},
   "outputs": [],
   "source": []
  }
 ],
 "metadata": {
  "kernelspec": {
   "display_name": "Python 3",
   "language": "python",
   "name": "python3"
  },
  "language_info": {
   "codemirror_mode": {
    "name": "ipython",
    "version": 3
   },
   "file_extension": ".py",
   "mimetype": "text/x-python",
   "name": "python",
   "nbconvert_exporter": "python",
   "pygments_lexer": "ipython3",
   "version": "3.6.4"
  }
 },
 "nbformat": 4,
 "nbformat_minor": 2
}
